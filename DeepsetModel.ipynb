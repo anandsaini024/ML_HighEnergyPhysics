{
  "nbformat": 4,
  "nbformat_minor": 0,
  "metadata": {
    "colab": {
      "provenance": [],
      "gpuType": "T4"
    },
    "kernelspec": {
      "name": "python3",
      "display_name": "Python 3"
    },
    "language_info": {
      "name": "python"
    },
    "accelerator": "GPU"
  },
  "cells": [
    {
      "cell_type": "code",
      "source": [
        "import torch\n",
        "import torch.nn as nn\n",
        "import torch.optim as optim\n",
        "import numpy as np\n",
        "!pip install jetnet\n",
        "from jetnet.datasets import JetNet\n",
        "from jetnet.datasets.normalisations import FeaturewiseLinear\n",
        "from sklearn.preprocessing import OneHotEncoder\n",
        "from sklearn.metrics import accuracy_score"
      ],
      "metadata": {
        "id": "wzHBjf9Zaibr",
        "colab": {
          "base_uri": "https://localhost:8080/"
        },
        "outputId": "2e6c7aa9-1105-4d8e-8185-360e7601c83d"
      },
      "execution_count": 2,
      "outputs": [
        {
          "output_type": "stream",
          "name": "stdout",
          "text": [
            "Collecting jetnet\n",
            "  Downloading jetnet-0.2.5-py3-none-any.whl.metadata (8.8 kB)\n",
            "Requirement already satisfied: numpy>=1.21.0 in /usr/local/lib/python3.10/dist-packages (from jetnet) (1.26.4)\n",
            "Requirement already satisfied: torch>=1.8.0 in /usr/local/lib/python3.10/dist-packages (from jetnet) (2.5.1+cu121)\n",
            "Collecting energyflow>=1.3.0 (from jetnet)\n",
            "  Downloading energyflow-1.4.0-py3-none-any.whl.metadata (5.6 kB)\n",
            "Requirement already satisfied: scipy>=1.6.2 in /usr/local/lib/python3.10/dist-packages (from jetnet) (1.13.1)\n",
            "Collecting awkward>=1.4.0 (from jetnet)\n",
            "  Downloading awkward-2.7.2-py3-none-any.whl.metadata (7.0 kB)\n",
            "Collecting coffea>=0.7.0 (from jetnet)\n",
            "  Downloading coffea-2024.11.0-py3-none-any.whl.metadata (8.3 kB)\n",
            "Requirement already satisfied: h5py>=3.0.0 in /usr/local/lib/python3.10/dist-packages (from jetnet) (3.12.1)\n",
            "Requirement already satisfied: pandas in /usr/local/lib/python3.10/dist-packages (from jetnet) (2.2.2)\n",
            "Requirement already satisfied: tables in /usr/local/lib/python3.10/dist-packages (from jetnet) (3.10.1)\n",
            "Requirement already satisfied: requests in /usr/local/lib/python3.10/dist-packages (from jetnet) (2.32.3)\n",
            "Requirement already satisfied: tqdm in /usr/local/lib/python3.10/dist-packages (from jetnet) (4.67.1)\n",
            "Collecting awkward-cpp==43 (from awkward>=1.4.0->jetnet)\n",
            "  Downloading awkward_cpp-43-cp310-cp310-manylinux_2_17_x86_64.manylinux2014_x86_64.whl.metadata (2.1 kB)\n",
            "Requirement already satisfied: fsspec>=2022.11.0 in /usr/local/lib/python3.10/dist-packages (from awkward>=1.4.0->jetnet) (2024.10.0)\n",
            "Requirement already satisfied: importlib-metadata>=4.13.0 in /usr/local/lib/python3.10/dist-packages (from awkward>=1.4.0->jetnet) (8.5.0)\n",
            "Requirement already satisfied: packaging in /usr/local/lib/python3.10/dist-packages (from awkward>=1.4.0->jetnet) (24.2)\n",
            "Requirement already satisfied: typing-extensions>=4.1.0 in /usr/local/lib/python3.10/dist-packages (from awkward>=1.4.0->jetnet) (4.12.2)\n",
            "Requirement already satisfied: aiohttp in /usr/local/lib/python3.10/dist-packages (from coffea>=0.7.0->jetnet) (3.11.10)\n",
            "Requirement already satisfied: cachetools in /usr/local/lib/python3.10/dist-packages (from coffea>=0.7.0->jetnet) (5.5.0)\n",
            "Requirement already satisfied: cloudpickle>=1.2.3 in /usr/local/lib/python3.10/dist-packages (from coffea>=0.7.0->jetnet) (3.1.0)\n",
            "Collecting correctionlib>=2.6.0 (from coffea>=0.7.0->jetnet)\n",
            "  Downloading correctionlib-2.6.4-cp310-cp310-manylinux_2_17_x86_64.manylinux2014_x86_64.whl.metadata (7.2 kB)\n",
            "Collecting dask-awkward>=2024.9.0 (from coffea>=0.7.0->jetnet)\n",
            "  Downloading dask_awkward-2024.12.2-py3-none-any.whl.metadata (3.9 kB)\n",
            "Collecting dask-histogram>=2024.9.1 (from coffea>=0.7.0->jetnet)\n",
            "  Downloading dask_histogram-2024.12.1-py3-none-any.whl.metadata (3.9 kB)\n",
            "Requirement already satisfied: dask>=2024.3.0 in /usr/local/lib/python3.10/dist-packages (from dask[array]>=2024.3.0; python_version > \"3.8\"->coffea>=0.7.0->jetnet) (2024.10.0)\n",
            "Collecting fsspec-xrootd>=0.2.3 (from coffea>=0.7.0->jetnet)\n",
            "  Downloading fsspec_xrootd-0.4.0-py3-none-any.whl.metadata (4.0 kB)\n",
            "Collecting hist>=2 (from coffea>=0.7.0->jetnet)\n",
            "  Downloading hist-2.8.0-py3-none-any.whl.metadata (16 kB)\n",
            "Collecting lz4 (from coffea>=0.7.0->jetnet)\n",
            "  Downloading lz4-4.3.3-cp310-cp310-manylinux_2_17_x86_64.manylinux2014_x86_64.whl.metadata (3.7 kB)\n",
            "Requirement already satisfied: matplotlib>=3 in /usr/local/lib/python3.10/dist-packages (from coffea>=0.7.0->jetnet) (3.8.0)\n",
            "Collecting mplhep>=0.1.18 (from coffea>=0.7.0->jetnet)\n",
            "  Downloading mplhep-0.3.55-py3-none-any.whl.metadata (10 kB)\n",
            "Requirement already satisfied: numba>=0.58.1 in /usr/local/lib/python3.10/dist-packages (from coffea>=0.7.0->jetnet) (0.60.0)\n",
            "Requirement already satisfied: pyarrow>=6.0.0 in /usr/local/lib/python3.10/dist-packages (from coffea>=0.7.0->jetnet) (17.0.0)\n",
            "Requirement already satisfied: toml>=0.10.2 in /usr/local/lib/python3.10/dist-packages (from coffea>=0.7.0->jetnet) (0.10.2)\n",
            "Collecting uproot>=5.3.11 (from coffea>=0.7.0->jetnet)\n",
            "  Downloading uproot-5.5.1-py3-none-any.whl.metadata (33 kB)\n",
            "Collecting vector>=1.4.1 (from coffea>=0.7.0->jetnet)\n",
            "  Downloading vector-1.5.2-py3-none-any.whl.metadata (44 kB)\n",
            "\u001b[2K     \u001b[90m━━━━━━━━━━━━━━━━━━━━━━━━━━━━━━━━━━━━━━━━\u001b[0m \u001b[32m44.2/44.2 kB\u001b[0m \u001b[31m3.9 MB/s\u001b[0m eta \u001b[36m0:00:00\u001b[0m\n",
            "\u001b[?25hCollecting wasserstein>=1.0.1 (from energyflow>=1.3.0->jetnet)\n",
            "  Downloading wasserstein-1.1.0-cp310-cp310-manylinux_2_17_x86_64.manylinux2014_x86_64.whl.metadata (3.0 kB)\n",
            "Requirement already satisfied: filelock in /usr/local/lib/python3.10/dist-packages (from torch>=1.8.0->jetnet) (3.16.1)\n",
            "Requirement already satisfied: networkx in /usr/local/lib/python3.10/dist-packages (from torch>=1.8.0->jetnet) (3.4.2)\n",
            "Requirement already satisfied: jinja2 in /usr/local/lib/python3.10/dist-packages (from torch>=1.8.0->jetnet) (3.1.4)\n",
            "Requirement already satisfied: sympy==1.13.1 in /usr/local/lib/python3.10/dist-packages (from torch>=1.8.0->jetnet) (1.13.1)\n",
            "Requirement already satisfied: mpmath<1.4,>=1.1.0 in /usr/local/lib/python3.10/dist-packages (from sympy==1.13.1->torch>=1.8.0->jetnet) (1.3.0)\n",
            "Requirement already satisfied: python-dateutil>=2.8.2 in /usr/local/lib/python3.10/dist-packages (from pandas->jetnet) (2.8.2)\n",
            "Requirement already satisfied: pytz>=2020.1 in /usr/local/lib/python3.10/dist-packages (from pandas->jetnet) (2024.2)\n",
            "Requirement already satisfied: tzdata>=2022.7 in /usr/local/lib/python3.10/dist-packages (from pandas->jetnet) (2024.2)\n",
            "Requirement already satisfied: charset-normalizer<4,>=2 in /usr/local/lib/python3.10/dist-packages (from requests->jetnet) (3.4.0)\n",
            "Requirement already satisfied: idna<4,>=2.5 in /usr/local/lib/python3.10/dist-packages (from requests->jetnet) (3.10)\n",
            "Requirement already satisfied: urllib3<3,>=1.21.1 in /usr/local/lib/python3.10/dist-packages (from requests->jetnet) (2.2.3)\n",
            "Requirement already satisfied: certifi>=2017.4.17 in /usr/local/lib/python3.10/dist-packages (from requests->jetnet) (2024.12.14)\n",
            "Requirement already satisfied: numexpr>=2.6.2 in /usr/local/lib/python3.10/dist-packages (from tables->jetnet) (2.10.2)\n",
            "Requirement already satisfied: py-cpuinfo in /usr/local/lib/python3.10/dist-packages (from tables->jetnet) (9.0.0)\n",
            "Requirement already satisfied: blosc2>=2.3.0 in /usr/local/lib/python3.10/dist-packages (from tables->jetnet) (2.7.1)\n",
            "Requirement already satisfied: ndindex>=1.4 in /usr/local/lib/python3.10/dist-packages (from blosc2>=2.3.0->tables->jetnet) (1.9.2)\n",
            "Requirement already satisfied: msgpack in /usr/local/lib/python3.10/dist-packages (from blosc2>=2.3.0->tables->jetnet) (1.1.0)\n",
            "Requirement already satisfied: pydantic>=2 in /usr/local/lib/python3.10/dist-packages (from correctionlib>=2.6.0->coffea>=0.7.0->jetnet) (2.10.3)\n",
            "Requirement already satisfied: rich in /usr/local/lib/python3.10/dist-packages (from correctionlib>=2.6.0->coffea>=0.7.0->jetnet) (13.9.4)\n",
            "Requirement already satisfied: click>=8.1 in /usr/local/lib/python3.10/dist-packages (from dask>=2024.3.0->dask[array]>=2024.3.0; python_version > \"3.8\"->coffea>=0.7.0->jetnet) (8.1.7)\n",
            "Requirement already satisfied: partd>=1.4.0 in /usr/local/lib/python3.10/dist-packages (from dask>=2024.3.0->dask[array]>=2024.3.0; python_version > \"3.8\"->coffea>=0.7.0->jetnet) (1.4.2)\n",
            "Requirement already satisfied: pyyaml>=5.3.1 in /usr/local/lib/python3.10/dist-packages (from dask>=2024.3.0->dask[array]>=2024.3.0; python_version > \"3.8\"->coffea>=0.7.0->jetnet) (6.0.2)\n",
            "Requirement already satisfied: toolz>=0.10.0 in /usr/local/lib/python3.10/dist-packages (from dask>=2024.3.0->dask[array]>=2024.3.0; python_version > \"3.8\"->coffea>=0.7.0->jetnet) (0.12.1)\n",
            "Collecting boost-histogram>=1.3.2 (from dask-histogram>=2024.9.1->coffea>=0.7.0->jetnet)\n",
            "  Downloading boost_histogram-1.5.0-cp310-cp310-manylinux_2_17_x86_64.manylinux2014_x86_64.whl.metadata (24 kB)\n",
            "Collecting histoprint>=2.2.0 (from hist>=2->coffea>=0.7.0->jetnet)\n",
            "  Downloading histoprint-2.6.0-py3-none-any.whl.metadata (17 kB)\n",
            "Requirement already satisfied: zipp>=3.20 in /usr/local/lib/python3.10/dist-packages (from importlib-metadata>=4.13.0->awkward>=1.4.0->jetnet) (3.21.0)\n",
            "Requirement already satisfied: contourpy>=1.0.1 in /usr/local/lib/python3.10/dist-packages (from matplotlib>=3->coffea>=0.7.0->jetnet) (1.3.1)\n",
            "Requirement already satisfied: cycler>=0.10 in /usr/local/lib/python3.10/dist-packages (from matplotlib>=3->coffea>=0.7.0->jetnet) (0.12.1)\n",
            "Requirement already satisfied: fonttools>=4.22.0 in /usr/local/lib/python3.10/dist-packages (from matplotlib>=3->coffea>=0.7.0->jetnet) (4.55.3)\n",
            "Requirement already satisfied: kiwisolver>=1.0.1 in /usr/local/lib/python3.10/dist-packages (from matplotlib>=3->coffea>=0.7.0->jetnet) (1.4.7)\n",
            "Requirement already satisfied: pillow>=6.2.0 in /usr/local/lib/python3.10/dist-packages (from matplotlib>=3->coffea>=0.7.0->jetnet) (11.0.0)\n",
            "Requirement already satisfied: pyparsing>=2.3.1 in /usr/local/lib/python3.10/dist-packages (from matplotlib>=3->coffea>=0.7.0->jetnet) (3.2.0)\n",
            "Collecting mplhep-data>=0.0.4 (from mplhep>=0.1.18->coffea>=0.7.0->jetnet)\n",
            "  Downloading mplhep_data-0.0.4-py3-none-any.whl.metadata (3.4 kB)\n",
            "Collecting uhi>=0.2.0 (from mplhep>=0.1.18->coffea>=0.7.0->jetnet)\n",
            "  Downloading uhi-0.5.0-py3-none-any.whl.metadata (7.5 kB)\n",
            "Requirement already satisfied: llvmlite<0.44,>=0.43.0dev0 in /usr/local/lib/python3.10/dist-packages (from numba>=0.58.1->coffea>=0.7.0->jetnet) (0.43.0)\n",
            "Requirement already satisfied: six>=1.5 in /usr/local/lib/python3.10/dist-packages (from python-dateutil>=2.8.2->pandas->jetnet) (1.17.0)\n",
            "Collecting cramjam>=2.5.0 (from uproot>=5.3.11->coffea>=0.7.0->jetnet)\n",
            "  Downloading cramjam-2.9.1-cp310-cp310-manylinux_2_17_x86_64.manylinux2014_x86_64.whl.metadata (4.9 kB)\n",
            "Collecting xxhash (from uproot>=5.3.11->coffea>=0.7.0->jetnet)\n",
            "  Downloading xxhash-3.5.0-cp310-cp310-manylinux_2_17_x86_64.manylinux2014_x86_64.whl.metadata (12 kB)\n",
            "Collecting wurlitzer>=2.0.0 (from wasserstein>=1.0.1->energyflow>=1.3.0->jetnet)\n",
            "  Downloading wurlitzer-3.1.1-py3-none-any.whl.metadata (2.5 kB)\n",
            "Requirement already satisfied: aiohappyeyeballs>=2.3.0 in /usr/local/lib/python3.10/dist-packages (from aiohttp->coffea>=0.7.0->jetnet) (2.4.4)\n",
            "Requirement already satisfied: aiosignal>=1.1.2 in /usr/local/lib/python3.10/dist-packages (from aiohttp->coffea>=0.7.0->jetnet) (1.3.2)\n",
            "Requirement already satisfied: async-timeout<6.0,>=4.0 in /usr/local/lib/python3.10/dist-packages (from aiohttp->coffea>=0.7.0->jetnet) (4.0.3)\n",
            "Requirement already satisfied: attrs>=17.3.0 in /usr/local/lib/python3.10/dist-packages (from aiohttp->coffea>=0.7.0->jetnet) (24.3.0)\n",
            "Requirement already satisfied: frozenlist>=1.1.1 in /usr/local/lib/python3.10/dist-packages (from aiohttp->coffea>=0.7.0->jetnet) (1.5.0)\n",
            "Requirement already satisfied: multidict<7.0,>=4.5 in /usr/local/lib/python3.10/dist-packages (from aiohttp->coffea>=0.7.0->jetnet) (6.1.0)\n",
            "Requirement already satisfied: propcache>=0.2.0 in /usr/local/lib/python3.10/dist-packages (from aiohttp->coffea>=0.7.0->jetnet) (0.2.1)\n",
            "Requirement already satisfied: yarl<2.0,>=1.17.0 in /usr/local/lib/python3.10/dist-packages (from aiohttp->coffea>=0.7.0->jetnet) (1.18.3)\n",
            "Requirement already satisfied: MarkupSafe>=2.0 in /usr/local/lib/python3.10/dist-packages (from jinja2->torch>=1.8.0->jetnet) (3.0.2)\n",
            "Requirement already satisfied: locket in /usr/local/lib/python3.10/dist-packages (from partd>=1.4.0->dask>=2024.3.0->dask[array]>=2024.3.0; python_version > \"3.8\"->coffea>=0.7.0->jetnet) (1.0.0)\n",
            "Requirement already satisfied: annotated-types>=0.6.0 in /usr/local/lib/python3.10/dist-packages (from pydantic>=2->correctionlib>=2.6.0->coffea>=0.7.0->jetnet) (0.7.0)\n",
            "Requirement already satisfied: pydantic-core==2.27.1 in /usr/local/lib/python3.10/dist-packages (from pydantic>=2->correctionlib>=2.6.0->coffea>=0.7.0->jetnet) (2.27.1)\n",
            "Requirement already satisfied: markdown-it-py>=2.2.0 in /usr/local/lib/python3.10/dist-packages (from rich->correctionlib>=2.6.0->coffea>=0.7.0->jetnet) (3.0.0)\n",
            "Requirement already satisfied: pygments<3.0.0,>=2.13.0 in /usr/local/lib/python3.10/dist-packages (from rich->correctionlib>=2.6.0->coffea>=0.7.0->jetnet) (2.18.0)\n",
            "Requirement already satisfied: mdurl~=0.1 in /usr/local/lib/python3.10/dist-packages (from markdown-it-py>=2.2.0->rich->correctionlib>=2.6.0->coffea>=0.7.0->jetnet) (0.1.2)\n",
            "Downloading jetnet-0.2.5-py3-none-any.whl (3.7 MB)\n",
            "\u001b[2K   \u001b[90m━━━━━━━━━━━━━━━━━━━━━━━━━━━━━━━━━━━━━━━━\u001b[0m \u001b[32m3.7/3.7 MB\u001b[0m \u001b[31m18.0 MB/s\u001b[0m eta \u001b[36m0:00:00\u001b[0m\n",
            "\u001b[?25hDownloading awkward-2.7.2-py3-none-any.whl (865 kB)\n",
            "\u001b[2K   \u001b[90m━━━━━━━━━━━━━━━━━━━━━━━━━━━━━━━━━━━━━━━━\u001b[0m \u001b[32m865.1/865.1 kB\u001b[0m \u001b[31m47.6 MB/s\u001b[0m eta \u001b[36m0:00:00\u001b[0m\n",
            "\u001b[?25hDownloading awkward_cpp-43-cp310-cp310-manylinux_2_17_x86_64.manylinux2014_x86_64.whl (636 kB)\n",
            "\u001b[2K   \u001b[90m━━━━━━━━━━━━━━━━━━━━━━━━━━━━━━━━━━━━━━━━\u001b[0m \u001b[32m636.7/636.7 kB\u001b[0m \u001b[31m40.7 MB/s\u001b[0m eta \u001b[36m0:00:00\u001b[0m\n",
            "\u001b[?25hDownloading coffea-2024.11.0-py3-none-any.whl (192 kB)\n",
            "\u001b[2K   \u001b[90m━━━━━━━━━━━━━━━━━━━━━━━━━━━━━━━━━━━━━━━━\u001b[0m \u001b[32m192.7/192.7 kB\u001b[0m \u001b[31m16.3 MB/s\u001b[0m eta \u001b[36m0:00:00\u001b[0m\n",
            "\u001b[?25hDownloading energyflow-1.4.0-py3-none-any.whl (700 kB)\n",
            "\u001b[2K   \u001b[90m━━━━━━━━━━━━━━━━━━━━━━━━━━━━━━━━━━━━━━━━\u001b[0m \u001b[32m700.8/700.8 kB\u001b[0m \u001b[31m36.1 MB/s\u001b[0m eta \u001b[36m0:00:00\u001b[0m\n",
            "\u001b[?25hDownloading correctionlib-2.6.4-cp310-cp310-manylinux_2_17_x86_64.manylinux2014_x86_64.whl (466 kB)\n",
            "\u001b[2K   \u001b[90m━━━━━━━━━━━━━━━━━━━━━━━━━━━━━━━━━━━━━━━━\u001b[0m \u001b[32m466.2/466.2 kB\u001b[0m \u001b[31m35.3 MB/s\u001b[0m eta \u001b[36m0:00:00\u001b[0m\n",
            "\u001b[?25hDownloading dask_awkward-2024.12.2-py3-none-any.whl (84 kB)\n",
            "\u001b[2K   \u001b[90m━━━━━━━━━━━━━━━━━━━━━━━━━━━━━━━━━━━━━━━━\u001b[0m \u001b[32m84.9/84.9 kB\u001b[0m \u001b[31m8.2 MB/s\u001b[0m eta \u001b[36m0:00:00\u001b[0m\n",
            "\u001b[?25hDownloading dask_histogram-2024.12.1-py3-none-any.whl (27 kB)\n",
            "Downloading fsspec_xrootd-0.4.0-py3-none-any.whl (13 kB)\n",
            "Downloading hist-2.8.0-py3-none-any.whl (40 kB)\n",
            "\u001b[2K   \u001b[90m━━━━━━━━━━━━━━━━━━━━━━━━━━━━━━━━━━━━━━━━\u001b[0m \u001b[32m40.5/40.5 kB\u001b[0m \u001b[31m3.9 MB/s\u001b[0m eta \u001b[36m0:00:00\u001b[0m\n",
            "\u001b[?25hDownloading mplhep-0.3.55-py3-none-any.whl (42 kB)\n",
            "\u001b[2K   \u001b[90m━━━━━━━━━━━━━━━━━━━━━━━━━━━━━━━━━━━━━━━━\u001b[0m \u001b[32m42.6/42.6 kB\u001b[0m \u001b[31m3.9 MB/s\u001b[0m eta \u001b[36m0:00:00\u001b[0m\n",
            "\u001b[?25hDownloading uproot-5.5.1-py3-none-any.whl (362 kB)\n",
            "\u001b[2K   \u001b[90m━━━━━━━━━━━━━━━━━━━━━━━━━━━━━━━━━━━━━━━━\u001b[0m \u001b[32m362.3/362.3 kB\u001b[0m \u001b[31m27.6 MB/s\u001b[0m eta \u001b[36m0:00:00\u001b[0m\n",
            "\u001b[?25hDownloading vector-1.5.2-py3-none-any.whl (182 kB)\n",
            "\u001b[2K   \u001b[90m━━━━━━━━━━━━━━━━━━━━━━━━━━━━━━━━━━━━━━━━\u001b[0m \u001b[32m182.3/182.3 kB\u001b[0m \u001b[31m15.6 MB/s\u001b[0m eta \u001b[36m0:00:00\u001b[0m\n",
            "\u001b[?25hDownloading wasserstein-1.1.0-cp310-cp310-manylinux_2_17_x86_64.manylinux2014_x86_64.whl (502 kB)\n",
            "\u001b[2K   \u001b[90m━━━━━━━━━━━━━━━━━━━━━━━━━━━━━━━━━━━━━━━━\u001b[0m \u001b[32m502.2/502.2 kB\u001b[0m \u001b[31m39.2 MB/s\u001b[0m eta \u001b[36m0:00:00\u001b[0m\n",
            "\u001b[?25hDownloading lz4-4.3.3-cp310-cp310-manylinux_2_17_x86_64.manylinux2014_x86_64.whl (1.3 MB)\n",
            "\u001b[2K   \u001b[90m━━━━━━━━━━━━━━━━━━━━━━━━━━━━━━━━━━━━━━━━\u001b[0m \u001b[32m1.3/1.3 MB\u001b[0m \u001b[31m57.9 MB/s\u001b[0m eta \u001b[36m0:00:00\u001b[0m\n",
            "\u001b[?25hDownloading boost_histogram-1.5.0-cp310-cp310-manylinux_2_17_x86_64.manylinux2014_x86_64.whl (1.1 MB)\n",
            "\u001b[2K   \u001b[90m━━━━━━━━━━━━━━━━━━━━━━━━━━━━━━━━━━━━━━━━\u001b[0m \u001b[32m1.1/1.1 MB\u001b[0m \u001b[31m57.1 MB/s\u001b[0m eta \u001b[36m0:00:00\u001b[0m\n",
            "\u001b[?25hDownloading cramjam-2.9.1-cp310-cp310-manylinux_2_17_x86_64.manylinux2014_x86_64.whl (2.4 MB)\n",
            "\u001b[2K   \u001b[90m━━━━━━━━━━━━━━━━━━━━━━━━━━━━━━━━━━━━━━━━\u001b[0m \u001b[32m2.4/2.4 MB\u001b[0m \u001b[31m70.9 MB/s\u001b[0m eta \u001b[36m0:00:00\u001b[0m\n",
            "\u001b[?25hDownloading histoprint-2.6.0-py3-none-any.whl (16 kB)\n",
            "Downloading mplhep_data-0.0.4-py3-none-any.whl (9.1 MB)\n",
            "\u001b[2K   \u001b[90m━━━━━━━━━━━━━━━━━━━━━━━━━━━━━━━━━━━━━━━━\u001b[0m \u001b[32m9.1/9.1 MB\u001b[0m \u001b[31m78.6 MB/s\u001b[0m eta \u001b[36m0:00:00\u001b[0m\n",
            "\u001b[?25hDownloading uhi-0.5.0-py3-none-any.whl (13 kB)\n",
            "Downloading wurlitzer-3.1.1-py3-none-any.whl (8.6 kB)\n",
            "Downloading xxhash-3.5.0-cp310-cp310-manylinux_2_17_x86_64.manylinux2014_x86_64.whl (194 kB)\n",
            "\u001b[2K   \u001b[90m━━━━━━━━━━━━━━━━━━━━━━━━━━━━━━━━━━━━━━━━\u001b[0m \u001b[32m194.1/194.1 kB\u001b[0m \u001b[31m18.0 MB/s\u001b[0m eta \u001b[36m0:00:00\u001b[0m\n",
            "\u001b[?25hInstalling collected packages: xxhash, wurlitzer, vector, uhi, mplhep-data, lz4, fsspec-xrootd, cramjam, boost-histogram, awkward-cpp, wasserstein, histoprint, awkward, uproot, mplhep, hist, energyflow, dask-histogram, dask-awkward, correctionlib, coffea, jetnet\n",
            "Successfully installed awkward-2.7.2 awkward-cpp-43 boost-histogram-1.5.0 coffea-2024.11.0 correctionlib-2.6.4 cramjam-2.9.1 dask-awkward-2024.12.2 dask-histogram-2024.12.1 energyflow-1.4.0 fsspec-xrootd-0.4.0 hist-2.8.0 histoprint-2.6.0 jetnet-0.2.5 lz4-4.3.3 mplhep-0.3.55 mplhep-data-0.0.4 uhi-0.5.0 uproot-5.5.1 vector-1.5.2 wasserstein-1.1.0 wurlitzer-3.1.1 xxhash-3.5.0\n"
          ]
        },
        {
          "output_type": "stream",
          "name": "stderr",
          "text": [
            "/usr/local/lib/python3.10/dist-packages/coffea/nanoevents/schemas/fcc.py:5: FutureWarning: In version 2025.1.0 (target date: 2024-12-31 11:59:59-06:00), this will be an error.\n",
            "To raise these warnings as errors (and get stack traces to find out where they're called), run\n",
            "    import warnings\n",
            "    warnings.filterwarnings(\"error\", module=\"coffea.*\")\n",
            "after the first `import coffea` or use `@pytest.mark.filterwarnings(\"error:::coffea.*\")` in pytest.\n",
            "Issue: coffea.nanoevents.methods.vector will be removed and replaced with scikit-hep vector. Nanoevents schemas internal to coffea will be migrated. Otherwise please consider using that package!.\n",
            "  from coffea.nanoevents.methods import vector\n"
          ]
        }
      ]
    },
    {
      "cell_type": "code",
      "source": [
        "# Check if GPU is available\n",
        "device = torch.device(\"cuda\" if torch.cuda.is_available() else \"cpu\")\n",
        "print(f\"Using device: {device}\")"
      ],
      "metadata": {
        "colab": {
          "base_uri": "https://localhost:8080/"
        },
        "id": "X5ypeWMvW3an",
        "outputId": "ad5eb6fc-2309-44bb-9005-6ead3c919e40"
      },
      "execution_count": 3,
      "outputs": [
        {
          "output_type": "stream",
          "name": "stdout",
          "text": [
            "Using device: cuda\n"
          ]
        }
      ]
    },
    {
      "cell_type": "code",
      "source": [
        "# Function to one-hot encode the jet type and leave the rest of the features as is\n",
        "def OneHotEncodeType(x: np.ndarray):\n",
        "    enc = OneHotEncoder(categories=[[0., 2., 3.]])\n",
        "    type_encoded = enc.fit_transform(x[..., 0].reshape(-1, 1)).toarray()\n",
        "    other_features = x[..., 1:].reshape(-1, 3)\n",
        "    return np.concatenate((type_encoded, other_features), axis=-1).reshape(*x.shape[:-1], -1)\n"
      ],
      "metadata": {
        "id": "27jDYw02W3qs"
      },
      "execution_count": 4,
      "outputs": []
    },
    {
      "cell_type": "code",
      "source": [
        "data_args = {\n",
        "    \"jet_type\": [\"g\", \"t\", \"w\"],\n",
        "    \"data_dir\": \"./datasets/jetnet\",\n",
        "    \"particle_features\": [\"etarel\", \"phirel\", \"ptrel\", \"mask\"],\n",
        "    \"jet_features\": [\"type\", \"pt\", \"eta\", \"mass\"],\n",
        "    \"particle_normalisation\": FeaturewiseLinear(\n",
        "        normal=True, normalise_features=[True, True, True, False]\n",
        "    ),\n",
        "    \"jet_transform\": OneHotEncodeType,\n",
        "    \"download\": True,\n",
        "}\n",
        "\n",
        "jets_train = JetNet(**data_args, split=\"train\")\n",
        "jets_valid = JetNet(**data_args, split=\"valid\")\n",
        "\n",
        "x_train = jets_train.particle_data\n",
        "y_train = jets_train.jet_data[:, 0]\n",
        "x_valid = jets_valid.particle_data\n",
        "y_valid = jets_valid.jet_data[:, 0]\n",
        "\n",
        "# Convert to PyTorch tensors and move to GPU\n",
        "x_train = torch.from_numpy(x_train).to(device)\n",
        "x_valid = torch.from_numpy(x_valid).to(device)\n",
        "\n",
        "y_train = y_train.reshape(-1, 1)\n",
        "y_valid = y_valid.reshape(-1, 1)"
      ],
      "metadata": {
        "colab": {
          "base_uri": "https://localhost:8080/"
        },
        "id": "p7DWitCoW3tm",
        "outputId": "b7dbb6de-51b6-41fa-81d9-1fac26a725dd"
      },
      "execution_count": 5,
      "outputs": [
        {
          "output_type": "stream",
          "name": "stdout",
          "text": [
            "Downloading g dataset to datasets/jetnet/g.hdf5\n",
            "Downloading dataset\n",
            "[██████████████████████████████████████████████████] 100%\n",
            "Downloading t dataset to datasets/jetnet/t.hdf5\n",
            "Downloading dataset\n",
            "[██████████████████████████████████████████████████] 100%\n",
            "Downloading w dataset to datasets/jetnet/w.hdf5\n",
            "Downloading dataset\n",
            "[██████████████████████████████████████████████████] 100%\n"
          ]
        }
      ]
    },
    {
      "cell_type": "code",
      "source": [
        "enc = OneHotEncoder(sparse_output=False)\n",
        "y_train_encoded = enc.fit_transform(y_train)\n",
        "y_valid_encoded = enc.fit_transform(y_valid)\n",
        "\n",
        "y_train_indices = torch.from_numpy(np.argmax(y_train_encoded, axis=1)).to(device)\n",
        "y_valid_indices = torch.from_numpy(np.argmax(y_valid_encoded, axis=1)).to(device)"
      ],
      "metadata": {
        "id": "U8ou0uGlW3wB"
      },
      "execution_count": 6,
      "outputs": []
    },
    {
      "cell_type": "code",
      "source": [
        "# Define DeepSet Model\n",
        "class DeepSet(nn.Module):\n",
        "    def __init__(self, input_dim, hidden_dim, output_dim):\n",
        "        super(DeepSet, self).__init__()\n",
        "        self.phi = nn.Sequential(\n",
        "            nn.Linear(input_dim, hidden_dim),\n",
        "            nn.ReLU(),\n",
        "            nn.Linear(hidden_dim, hidden_dim),\n",
        "            nn.ReLU()\n",
        "        )\n",
        "        self.rho = nn.Sequential(\n",
        "            nn.Linear(hidden_dim, hidden_dim),\n",
        "            nn.ReLU(),\n",
        "            nn.Linear(hidden_dim, output_dim)\n",
        "        )\n",
        "\n",
        "    def forward(self, x):\n",
        "        phi_output = self.phi(x)  # Shape: [n, c, hidden_dim]\n",
        "        aggregated = torch.sum(phi_output, dim=1)  # Shape: [n, hidden_dim]\n",
        "        output = self.rho(aggregated)  # Shape: [n, output_dim]\n",
        "        return output\n"
      ],
      "metadata": {
        "id": "1pT5FloMW3yf"
      },
      "execution_count": 7,
      "outputs": []
    },
    {
      "cell_type": "code",
      "source": [
        "# Model Parameters\n",
        "input_dim = 4\n",
        "hidden_dim = 64\n",
        "output_dim = 3"
      ],
      "metadata": {
        "id": "LI9mR1b1W31A"
      },
      "execution_count": 8,
      "outputs": []
    },
    {
      "cell_type": "code",
      "source": [
        "# Initialize model, loss, and optimizer, and move model to GPU\n",
        "model = DeepSet(input_dim, hidden_dim, output_dim).to(device)\n",
        "criterion = nn.CrossEntropyLoss()\n",
        "optimizer = optim.Adam(model.parameters(), lr=0.001)\n",
        "\n",
        "# Training Loop\n",
        "num_epochs = 500\n",
        "for epoch in range(num_epochs):\n",
        "    # Forward pass\n",
        "    outputs = model(x_train)\n",
        "    loss = criterion(outputs, y_train_indices)\n",
        "\n",
        "    # Backward pass\n",
        "    optimizer.zero_grad()\n",
        "    loss.backward()\n",
        "    optimizer.step()\n",
        "\n",
        "    if (epoch + 1) % 10 == 0:\n",
        "        print(f'Epoch [{epoch + 1}/{num_epochs}], Loss: {loss.item():.4f}')\n"
      ],
      "metadata": {
        "colab": {
          "base_uri": "https://localhost:8080/"
        },
        "id": "upHbG89hW34j",
        "outputId": "25b635b7-dae2-4c2e-8642-2092bd15978a"
      },
      "execution_count": 11,
      "outputs": [
        {
          "output_type": "stream",
          "name": "stdout",
          "text": [
            "Epoch [10/500], Loss: 1.0832\n",
            "Epoch [20/500], Loss: 1.0630\n",
            "Epoch [30/500], Loss: 1.0446\n",
            "Epoch [40/500], Loss: 1.0223\n",
            "Epoch [50/500], Loss: 0.9943\n",
            "Epoch [60/500], Loss: 0.9529\n",
            "Epoch [70/500], Loss: 0.8991\n",
            "Epoch [80/500], Loss: 0.8469\n",
            "Epoch [90/500], Loss: 0.8179\n",
            "Epoch [100/500], Loss: 0.7996\n",
            "Epoch [110/500], Loss: 0.7895\n",
            "Epoch [120/500], Loss: 0.7795\n",
            "Epoch [130/500], Loss: 0.7689\n",
            "Epoch [140/500], Loss: 0.7560\n",
            "Epoch [150/500], Loss: 0.7446\n",
            "Epoch [160/500], Loss: 0.7262\n",
            "Epoch [170/500], Loss: 0.7088\n",
            "Epoch [180/500], Loss: 0.6941\n",
            "Epoch [190/500], Loss: 0.6701\n",
            "Epoch [200/500], Loss: 0.6550\n",
            "Epoch [210/500], Loss: 0.6385\n",
            "Epoch [220/500], Loss: 0.6287\n",
            "Epoch [230/500], Loss: 0.6190\n",
            "Epoch [240/500], Loss: 0.6030\n",
            "Epoch [250/500], Loss: 0.5954\n",
            "Epoch [260/500], Loss: 0.5848\n",
            "Epoch [270/500], Loss: 0.5792\n",
            "Epoch [280/500], Loss: 0.5731\n",
            "Epoch [290/500], Loss: 0.5697\n",
            "Epoch [300/500], Loss: 0.5691\n",
            "Epoch [310/500], Loss: 0.5665\n",
            "Epoch [320/500], Loss: 0.5568\n",
            "Epoch [330/500], Loss: 0.5565\n",
            "Epoch [340/500], Loss: 0.5528\n",
            "Epoch [350/500], Loss: 0.5661\n",
            "Epoch [360/500], Loss: 0.5456\n",
            "Epoch [370/500], Loss: 0.5493\n",
            "Epoch [380/500], Loss: 0.5368\n",
            "Epoch [390/500], Loss: 0.5345\n",
            "Epoch [400/500], Loss: 0.5719\n",
            "Epoch [410/500], Loss: 0.5386\n",
            "Epoch [420/500], Loss: 0.5321\n",
            "Epoch [430/500], Loss: 0.5273\n",
            "Epoch [440/500], Loss: 0.5261\n",
            "Epoch [450/500], Loss: 0.5358\n",
            "Epoch [460/500], Loss: 0.5237\n",
            "Epoch [470/500], Loss: 0.5194\n",
            "Epoch [480/500], Loss: 0.5186\n",
            "Epoch [490/500], Loss: 0.5181\n",
            "Epoch [500/500], Loss: 0.5229\n"
          ]
        }
      ]
    },
    {
      "cell_type": "code",
      "source": [
        "# Predict\n",
        "with torch.no_grad():\n",
        "    predictions = torch.argmax(model(x_valid), dim=1)\n",
        "\n",
        "# Move predictions back to CPU for evaluation\n",
        "accuracy = accuracy_score(y_valid_indices.cpu(), predictions.cpu())\n",
        "print(f\"Validation Accuracy: {accuracy}\")"
      ],
      "metadata": {
        "id": "ruEPIPPyaifD",
        "colab": {
          "base_uri": "https://localhost:8080/"
        },
        "outputId": "7977ff40-e8aa-482e-9cfd-43c99871c237"
      },
      "execution_count": 12,
      "outputs": [
        {
          "output_type": "stream",
          "name": "stdout",
          "text": [
            "Validation Accuracy: 0.8011520881597897\n"
          ]
        }
      ]
    }
  ]
}